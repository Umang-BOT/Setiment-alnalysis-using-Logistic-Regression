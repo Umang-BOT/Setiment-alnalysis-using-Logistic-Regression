{
 "cells": [
  {
   "cell_type": "markdown",
   "metadata": {
    "id": "_yF3ECG7zBnW"
   },
   "source": [
    "import library"
   ]
  },
  {
   "cell_type": "code",
   "execution_count": 1,
   "metadata": {
    "id": "Qok6GgwoLDft"
   },
   "outputs": [],
   "source": [
    "import numpy as np\n",
    "import re\n",
    "import nltk\n",
    "import string\n",
    "from nltk.corpus import stopwords\n",
    "from nltk.tokenize import TweetTokenizer\n",
    "from nltk.stem import PorterStemmer\n",
    "from nltk.corpus import twitter_samples"
   ]
  },
  {
   "cell_type": "markdown",
   "metadata": {
    "id": "Wr3uq2hhzJ9Z"
   },
   "source": [
    "download the require library for preprocessing\n",
    "*   stopwords\n",
    "*   twitter_samples\n",
    "\n"
   ]
  },
  {
   "cell_type": "code",
   "execution_count": 2,
   "metadata": {
    "colab": {
     "base_uri": "https://localhost:8080/"
    },
    "executionInfo": {
     "elapsed": 3,
     "status": "ok",
     "timestamp": 1684913682787,
     "user": {
      "displayName": "Silent silent",
      "userId": "16896825594543602594"
     },
     "user_tz": -330
    },
    "id": "AnwUarQQPC2r",
    "outputId": "e941c00c-9a5b-42a6-af9b-4b79f8ee9efa"
   },
   "outputs": [
    {
     "name": "stderr",
     "output_type": "stream",
     "text": [
      "[nltk_data] Downloading package stopwords to\n",
      "[nltk_data]     C:\\Users\\Umang\\AppData\\Roaming\\nltk_data...\n",
      "[nltk_data]   Unzipping corpora\\stopwords.zip.\n",
      "[nltk_data] Downloading package twitter_samples to\n",
      "[nltk_data]     C:\\Users\\Umang\\AppData\\Roaming\\nltk_data...\n",
      "[nltk_data]   Unzipping corpora\\twitter_samples.zip.\n"
     ]
    },
    {
     "data": {
      "text/plain": [
       "True"
      ]
     },
     "execution_count": 2,
     "metadata": {},
     "output_type": "execute_result"
    }
   ],
   "source": [
    "nltk.download('stopwords')\n",
    "nltk.download('twitter_samples')"
   ]
  },
  {
   "cell_type": "markdown",
   "metadata": {
    "id": "k4aYt_9n1P-7"
   },
   "source": [
    "Preprocess the data into stem form\n",
    "Preprocess Steps:\n",
    "*   Eliminate handles and urls.\n",
    "*   Remove stopwords \"and\",\"is\",etc.\n",
    "*   Tokenize the string into words.\n",
    "*   Stemming conversion.\n",
    "*   Convert all word into lowercase.\n",
    "\n",
    "\n",
    "\n",
    "\n",
    "\n",
    "\n"
   ]
  },
  {
   "cell_type": "code",
   "execution_count": 3,
   "metadata": {
    "id": "w1MiAsVBLNw0"
   },
   "outputs": [],
   "source": [
    "def process_tweets(tweet_demo):\n",
    "    tweet_demo = re.sub(r'^RT[\\s]+', '', tweet_demo)\n",
    "    tweet_demo = re.sub(r'https?://\\S+', '', tweet_demo, flags=re.IGNORECASE)\n",
    "    tweet_demo = re.sub(r'^#', '', tweet_demo)\n",
    "    tweet_token = TweetTokenizer(strip_handles=True, reduce_len=True)\n",
    "    tweet_demo = tweet_token.tokenize(tweet_demo)\n",
    "    stop = stopwords.words('english')\n",
    "    clean_tweet = []\n",
    "    for i in tweet_demo:\n",
    "        if i not in stop and i not in string.punctuation:\n",
    "            clean_tweet.append(i)\n",
    "    stemmer = PorterStemmer()\n",
    "    cleaned_tweet = []\n",
    "    for i in clean_tweet:\n",
    "        cleaned_tweet.append(stemmer.stem(i))\n",
    "    return cleaned_tweet"
   ]
  },
  {
   "cell_type": "code",
   "execution_count": 4,
   "metadata": {
    "colab": {
     "base_uri": "https://localhost:8080/"
    },
    "executionInfo": {
     "elapsed": 4,
     "status": "ok",
     "timestamp": 1684913683398,
     "user": {
      "displayName": "Silent silent",
      "userId": "16896825594543602594"
     },
     "user_tz": -330
    },
    "id": "xU5pz7z5LPNj",
    "outputId": "1f32c158-be48-4176-b943-3a6ab9cfbe33"
   },
   "outputs": [
    {
     "data": {
      "text/plain": [
       "['we',\n",
       " 'like',\n",
       " 'keep',\n",
       " 'love',\n",
       " 'custom',\n",
       " 'wait',\n",
       " 'long',\n",
       " 'we',\n",
       " 'hope',\n",
       " 'enjoy',\n",
       " 'happi',\n",
       " 'friday',\n",
       " 'lwwf',\n",
       " ':)']"
      ]
     },
     "execution_count": 4,
     "metadata": {},
     "output_type": "execute_result"
    }
   ],
   "source": [
    "ans=\"We not like to keep our lovely customers waiting for long! We hope you enjoy! Happy Friday! - LWWF :) https://t.co/smyYriipxI\"\n",
    "process_tweets(ans)"
   ]
  },
  {
   "cell_type": "markdown",
   "metadata": {
    "id": "gS_vQ4Sr1jbj"
   },
   "source": [
    "divide tweets into positive sentiment and negative sentiment"
   ]
  },
  {
   "cell_type": "code",
   "execution_count": 5,
   "metadata": {
    "id": "5Sem1ZgwN-P2"
   },
   "outputs": [],
   "source": [
    "pos_tweets = twitter_samples.strings('positive_tweets.json')\n",
    "neg_tweets = twitter_samples.strings('negative_tweets.json')"
   ]
  },
  {
   "cell_type": "markdown",
   "metadata": {
    "id": "1jSZ373k1pwN"
   },
   "source": [
    "load the data positive tweet and negative tweet"
   ]
  },
  {
   "cell_type": "code",
   "execution_count": 6,
   "metadata": {
    "id": "2749Y4ExO_Qj"
   },
   "outputs": [],
   "source": [
    "test_pos = pos_tweets[3500:]\n",
    "train_pos = pos_tweets[:3500]\n",
    "test_neg = neg_tweets[3500:]\n",
    "train_neg = neg_tweets[:3500]\n",
    "X_train = train_pos + train_neg\n",
    "X_test = test_pos + test_neg"
   ]
  },
  {
   "cell_type": "markdown",
   "metadata": {
    "id": "W0HhaQ6X1vcX"
   },
   "source": [
    "generate label for extracted words(features)"
   ]
  },
  {
   "cell_type": "code",
   "execution_count": 7,
   "metadata": {
    "id": "OpGwpFUEPRcg"
   },
   "outputs": [],
   "source": [
    "y_train=np.append(np.ones((len(train_pos),1)),np.zeros((len(train_neg),1)),axis=0)\n",
    "y_test=np.append(np.ones((len(test_pos),1)),np.zeros((len(test_neg),1)),axis=0)"
   ]
  },
  {
   "cell_type": "code",
   "execution_count": 8,
   "metadata": {
    "colab": {
     "base_uri": "https://localhost:8080/"
    },
    "executionInfo": {
     "elapsed": 6,
     "status": "ok",
     "timestamp": 1684913684842,
     "user": {
      "displayName": "Silent silent",
      "userId": "16896825594543602594"
     },
     "user_tz": -330
    },
    "id": "u1ulS4-jPu-j",
    "outputId": "1b953937-d0ec-42a0-b04d-3c3e57dca3fd"
   },
   "outputs": [
    {
     "name": "stdout",
     "output_type": "stream",
     "text": [
      "(7000, 1) (3000, 1)\n"
     ]
    }
   ],
   "source": [
    "print(y_train.shape,y_test.shape)"
   ]
  },
  {
   "cell_type": "markdown",
   "metadata": {
    "id": "KhaqHTLa12_S"
   },
   "source": [
    "count the freuency how many times appears the word"
   ]
  },
  {
   "cell_type": "code",
   "execution_count": 9,
   "metadata": {
    "id": "NRomQPdyS9tk"
   },
   "outputs": [],
   "source": [
    "frequency={}\n",
    "listt=np.squeeze(y_train).tolist()\n",
    "count=0\n",
    "for i in range(len(X_train)):\n",
    "  tt=process_tweets(X_train[i])\n",
    "  for j in tt:\n",
    "    #print(j,end=\" \")\n",
    "    key = (j, listt[i]) \n",
    "    if key not in frequency: frequency[key]=1\n",
    "    else: frequency[key]+=1"
   ]
  },
  {
   "cell_type": "code",
   "execution_count": 13,
   "metadata": {
    "colab": {
     "base_uri": "https://localhost:8080/"
    },
    "executionInfo": {
     "elapsed": 9,
     "status": "ok",
     "timestamp": 1684913689372,
     "user": {
      "displayName": "Silent silent",
      "userId": "16896825594543602594"
     },
     "user_tz": -330
    },
    "id": "V918zTdyWDwc",
    "outputId": "df0e175f-1763-4423-8981-b0e17519b5ce"
   },
   "outputs": [
    {
     "name": "stdout",
     "output_type": "stream",
     "text": [
      "('followfriday', 1.0) 23\n",
      "('top', 1.0) 29\n",
      "('engag', 1.0) 6\n",
      "('member', 1.0) 13\n",
      "('commun', 1.0) 25\n"
     ]
    }
   ],
   "source": [
    "count=0\n",
    "for key,values in frequency.items():\n",
    "  print(key,values)\n",
    "  count+=1\n",
    "  if(count==5): break"
   ]
  },
  {
   "cell_type": "markdown",
   "metadata": {
    "id": "f0AWrJ_E2CaB"
   },
   "source": [
    "sigmoid function for non linearity method and gradient descent\n",
    "\n",
    "why activation: Activation functions allow neural networks to model complex relationships between inputs and outputs. Without activation functions, the network would be limited to representing only linear relationships ,thats why we use activation.\n",
    "\n",
    "why gradient descent: Gradient descent is an optimization algorithm used to minimize the cost or loss function in machine learning and deep learning models. The goal is to find the values of the model's parameters (weights and biases) that minimize the cost function.\n"
   ]
  },
  {
   "cell_type": "code",
   "execution_count": 14,
   "metadata": {
    "id": "vUt1nwBI2Jv1"
   },
   "outputs": [],
   "source": [
    "def sigmoid(z):\n",
    "    h = 1/(1+np.exp(-z))\n",
    "    return h"
   ]
  },
  {
   "cell_type": "code",
   "execution_count": 15,
   "metadata": {
    "id": "69AyGHKzqp2E"
   },
   "outputs": [],
   "source": [
    "def gradientDescent(X, y, theta, alpha, iters):\n",
    "    m = X.shape[0]\n",
    "    for i in range(0, iters):\n",
    "        z = np.dot(X,theta)\n",
    "        Z = sigmoid(z)\n",
    "        J = (-1*(np.dot(y.T,np.log(Z))+np.dot(1-y.T,np.log(1-Z))))/m\n",
    "        theta = theta-((alpha/m)*np.dot(X.T,Z-y))\n",
    "    return J, theta"
   ]
  },
  {
   "cell_type": "code",
   "execution_count": 16,
   "metadata": {
    "id": "KCsKu0UZrEqs"
   },
   "outputs": [],
   "source": [
    "def extract_features(tweet, freqs):\n",
    "    words = process_tweets(tweet)\n",
    "    weights = np.zeros(3)\n",
    "    weights[0] = 1\n",
    "    for word in words:\n",
    "        weights[1] += freqs.get((word,1),0)\n",
    "        weights[2] += freqs.get((word,0),0)\n",
    "    weights=weights[None,:]\n",
    "    return weights"
   ]
  },
  {
   "cell_type": "markdown",
   "metadata": {
    "id": "z23xhurc2PNT"
   },
   "source": [
    "sample for vector labelling"
   ]
  },
  {
   "cell_type": "code",
   "execution_count": 17,
   "metadata": {
    "colab": {
     "base_uri": "https://localhost:8080/"
    },
    "executionInfo": {
     "elapsed": 6,
     "status": "ok",
     "timestamp": 1684913689373,
     "user": {
      "displayName": "Silent silent",
      "userId": "16896825594543602594"
     },
     "user_tz": -330
    },
    "id": "5VxG2nflryhx",
    "outputId": "2e2fe956-095d-4dd3-a931-a7dd06f782db"
   },
   "outputs": [
    {
     "name": "stdout",
     "output_type": "stream",
     "text": [
      "[[1. 4. 1.]]\n"
     ]
    }
   ],
   "source": [
    "budd=extract_features('what is  up buddy?', frequency)\n",
    "print(budd)"
   ]
  },
  {
   "cell_type": "markdown",
   "metadata": {
    "id": "dDX95ACWu38Q"
   },
   "source": [
    "**Train** the model"
   ]
  },
  {
   "cell_type": "code",
   "execution_count": 18,
   "metadata": {
    "colab": {
     "base_uri": "https://localhost:8080/"
    },
    "executionInfo": {
     "elapsed": 4909,
     "status": "ok",
     "timestamp": 1684913694278,
     "user": {
      "displayName": "Silent silent",
      "userId": "16896825594543602594"
     },
     "user_tz": -330
    },
    "id": "F70lXtAlsJeW",
    "outputId": "dd55c110-1f2c-4a91-96d1-56a11de1910a"
   },
   "outputs": [
    {
     "name": "stdout",
     "output_type": "stream",
     "text": [
      "Cost  [[0.22203657]]\n",
      "Weights  [[ 8.80857488e-08]\n",
      " [ 6.40869802e-04]\n",
      " [-6.20284105e-04]]\n"
     ]
    }
   ],
   "source": [
    "X = np.zeros((len(X_train), 3))\n",
    "for i in range(len(X_train)):\n",
    "    X[i, :]= extract_features(X_train[i], frequency)\n",
    "Y = y_train\n",
    "J, theta = gradientDescent(X, Y, np.zeros((3, 1)), 1e-9, 2000)\n",
    "print(\"Cost \",J)\n",
    "print(\"Weights \",theta)"
   ]
  },
  {
   "cell_type": "markdown",
   "metadata": {
    "id": "_XQi6zBV2V11"
   },
   "source": [
    "**Testing** tweet demo how algo predicts?"
   ]
  },
  {
   "cell_type": "code",
   "execution_count": 19,
   "metadata": {
    "id": "P9UzXvSVsz6W"
   },
   "outputs": [],
   "source": [
    "def predict_tweet(tweet, freqs, theta):\n",
    "    x = extract_features(tweet,freqs)\n",
    "    y_pred = sigmoid(np.dot(x,theta))\n",
    "    return y_pred"
   ]
  },
  {
   "cell_type": "code",
   "execution_count": 20,
   "metadata": {
    "colab": {
     "base_uri": "https://localhost:8080/"
    },
    "executionInfo": {
     "elapsed": 6,
     "status": "ok",
     "timestamp": 1684913694278,
     "user": {
      "displayName": "Silent silent",
      "userId": "16896825594543602594"
     },
     "user_tz": -330
    },
    "id": "Sf4NxyiyuX6x",
    "outputId": "63e0b7a4-836a-4772-c26f-d9b536b60980"
   },
   "outputs": [
    {
     "name": "stdout",
     "output_type": "stream",
     "text": [
      "The weather is beautiful today. -> 0.507655591 -> Positive\n",
      "I feel awful. -> 0.413898651 -> Negative\n",
      "The concert was a disappointment. -> 0.504484634 -> Positive\n",
      "I love this book! -> 0.459840536 -> Negative\n",
      "The food was delicious. -> 0.503482222 -> Positive\n",
      "The service was terrible. -> 0.503316865 -> Positive\n",
      "The vacation was amazing! -> 0.507833240 -> Positive\n",
      "I hate Mondays. -> 0.425748392 -> Negative\n",
      "The movie was boring and predictable. -> 0.502618731 -> Positive\n",
      "The party was a blast! -> 0.503327158 -> Positive\n"
     ]
    }
   ],
   "source": [
    "for tweet in ['The weather is beautiful today.', 'I feel awful.', 'The concert was a disappointment.',\n",
    "              'I love this book!', 'The food was delicious.', 'The service was terrible.',\n",
    "              'The vacation was amazing!', 'I hate Mondays.', 'The movie was boring and predictable.',\n",
    "              'The party was a blast!']:\n",
    "    prediction = predict_tweet(tweet, frequency, theta)\n",
    "    sentiment=\"Positive\"\n",
    "    if(prediction<0.5): sentiment='Negative'\n",
    "    print(\"%s -> %.9f -> %s\" % (tweet, prediction,sentiment))"
   ]
  },
  {
   "cell_type": "markdown",
   "metadata": {
    "id": "QZ_7a4or2bH3"
   },
   "source": [
    "Accuracy of our model"
   ]
  },
  {
   "cell_type": "code",
   "execution_count": 21,
   "metadata": {
    "id": "oTWuSVVWub-D"
   },
   "outputs": [],
   "source": [
    "def Accuracy(X_test, y_test, freqs):\n",
    "    predicted = []\n",
    "    for tweet in X_test:\n",
    "        y_pred = predict_tweet(tweet, freqs, theta)\n",
    "        if y_pred >=0.5:\n",
    "            predicted.append(1.0)\n",
    "        else:\n",
    "            predicted.append(0.0)\n",
    "    accuracy = np.sum(np.array(predicted) == np.squeeze(y_test)) / len(X_test)\n",
    "    return accuracy,predicted"
   ]
  },
  {
   "cell_type": "code",
   "execution_count": 22,
   "metadata": {
    "colab": {
     "base_uri": "https://localhost:8080/"
    },
    "executionInfo": {
     "elapsed": 1718,
     "status": "ok",
     "timestamp": 1684913695993,
     "user": {
      "displayName": "Silent silent",
      "userId": "16896825594543602594"
     },
     "user_tz": -330
    },
    "id": "PRme_FCyu4sS",
    "outputId": "d0882a26-7d79-46de-befb-0254c0b0b101"
   },
   "outputs": [
    {
     "name": "stdout",
     "output_type": "stream",
     "text": [
      "accuray  0.9813333333333333\n"
     ]
    }
   ],
   "source": [
    "accuracy,predicted = Accuracy(X_test,y_test, frequency)\n",
    "print(\"accuray \",accuracy)"
   ]
  },
  {
   "cell_type": "code",
   "execution_count": 23,
   "metadata": {
    "colab": {
     "base_uri": "https://localhost:8080/"
    },
    "executionInfo": {
     "elapsed": 12,
     "status": "ok",
     "timestamp": 1684913695994,
     "user": {
      "displayName": "Silent silent",
      "userId": "16896825594543602594"
     },
     "user_tz": -330
    },
    "id": "PAkUBJP7u-tZ",
    "outputId": "14815690-1ce1-4b99-d90d-441fa1f1a5f1"
   },
   "outputs": [
    {
     "name": "stdout",
     "output_type": "stream",
     "text": [
      "[[1490   10]\n",
      " [  46 1454]]\n"
     ]
    }
   ],
   "source": [
    "from sklearn.metrics import confusion_matrix\n",
    "cm = confusion_matrix(y_test, predicted)\n",
    "print(cm)"
   ]
  },
  {
   "cell_type": "code",
   "execution_count": 24,
   "metadata": {
    "colab": {
     "base_uri": "https://localhost:8080/",
     "height": 492
    },
    "executionInfo": {
     "elapsed": 9,
     "status": "ok",
     "timestamp": 1684913695994,
     "user": {
      "displayName": "Silent silent",
      "userId": "16896825594543602594"
     },
     "user_tz": -330
    },
    "id": "e-1w4ttkw2ba",
    "outputId": "eac52095-9364-4367-db85-aae05c0f2c47"
   },
   "outputs": [
    {
     "data": {
      "image/png": "[encoded data removed]",
      "text/plain": [
       "<Figure size 640x480 with 1 Axes>"
      ]
     },
     "metadata": {},
     "output_type": "display_data"
    }
   ],
   "source": [
    "import matplotlib.pyplot as plt\n",
    "import numpy as np\n",
    "confusion_matrix = np.array([[1490, 10], [46, 1454]])\n",
    "labels = ['Positive', 'Negative']\n",
    "fig, ax = plt.subplots()\n",
    "heatmap = ax.imshow(confusion_matrix, cmap='Blues')\n",
    "ax.set_xticks(np.arange(len(labels)))\n",
    "ax.set_yticks(np.arange(len(labels)))\n",
    "ax.set_xticklabels(labels)\n",
    "ax.set_yticklabels(labels)\n",
    "plt.setp(ax.get_xticklabels(), rotation=45, ha='right', rotation_mode='anchor')\n",
    "for i in range(len(labels)):\n",
    "    for j in range(len(labels)):\n",
    "        text = ax.text(j, i, confusion_matrix[i, j], ha='center', va='center', color='r')\n",
    "ax.set_title('Confusion Matrix')\n",
    "plt.show()\n"
   ]
  },
  {
   "cell_type": "code",
   "execution_count": 37,
   "metadata": {},
   "outputs": [
    {
     "name": "stdout",
     "output_type": "stream",
     "text": [
      "Precision: 99%\n",
      "Recall: 96%\n"
     ]
    }
   ],
   "source": [
    "from sklearn.metrics import precision_score,recall_score\n",
    "precision = precision_score(y_test, predicted)\n",
    "recall = recall_score(y_test, predicted)\n",
    "\n",
    "print(\"Precision:\", int(precision*100),end=\"%\\n\")\n",
    "print(\"Recall:\", int(recall*100),end=\"%\\n\")"
   ]
  },
  {
   "cell_type": "markdown",
   "metadata": {},
   "source": [
    "#### Precision of 99%: This means that out of all the instances predicted as positive by your model, 99% of them are actually positive. In other words, your model has a very low rate of false positives, indicating that it is accurate in identifying positive instances.\n",
    "#### Recall of 96%: This means that out of all the actual positive instances, your model correctly identifies 96% of them as positive. In other words, your model has a low rate of false negatives, indicating that it captures a large portion of the positive instances."
   ]
  },
  {
   "cell_type": "code",
   "execution_count": null,
   "metadata": {},
   "outputs": [],
   "source": []
  }
 ],
 "metadata": {
  "colab": {
   "authorship_tag": "ABX9TyMCSoY8NviTrRZA0Cd35X42",
   "provenance": []
  },
  "kernelspec": {
   "display_name": "Python 3 (ipykernel)",
   "language": "python",
   "name": "python3"
  },
  "language_info": {
   "codemirror_mode": {
    "name": "ipython",
    "version": 3
   },
   "file_extension": ".py",
   "mimetype": "text/x-python",
   "name": "python",
   "nbconvert_exporter": "python",
   "pygments_lexer": "ipython3",
   "version": "3.9.13"
  }
 },
 "nbformat": 4,
 "nbformat_minor": 1
}
